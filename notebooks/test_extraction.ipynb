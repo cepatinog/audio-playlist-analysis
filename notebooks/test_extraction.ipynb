{
 "cells": [
  {
   "cell_type": "markdown",
   "metadata": {},
   "source": [
    "### Cell 1: Environment Setup"
   ]
  },
  {
   "cell_type": "code",
   "execution_count": 1,
   "metadata": {},
   "outputs": [
    {
     "name": "stderr",
     "output_type": "stream",
     "text": [
      "2025-02-13 12:29:06.589435: I tensorflow/stream_executor/cuda/cuda_gpu_executor.cc:922] could not open file to read NUMA node: /sys/bus/pci/devices/0000:01:00.0/numa_node\n",
      "Your kernel may have been built without NUMA support.\n",
      "2025-02-13 12:29:06.610326: I tensorflow/stream_executor/cuda/cuda_gpu_executor.cc:922] could not open file to read NUMA node: /sys/bus/pci/devices/0000:01:00.0/numa_node\n",
      "Your kernel may have been built without NUMA support.\n",
      "2025-02-13 12:29:06.610399: I tensorflow/stream_executor/cuda/cuda_gpu_executor.cc:922] could not open file to read NUMA node: /sys/bus/pci/devices/0000:01:00.0/numa_node\n",
      "Your kernel may have been built without NUMA support.\n"
     ]
    },
    {
     "name": "stdout",
     "output_type": "stream",
     "text": [
      "Memory growth enabled on GPU.\n"
     ]
    },
    {
     "name": "stderr",
     "output_type": "stream",
     "text": [
      "[   INFO   ] MusicExtractorSVM: no classifier models were configured by default\n"
     ]
    },
    {
     "name": "stdout",
     "output_type": "stream",
     "text": [
      "Project root: /home/cepatinog/amplab\n",
      "Current PYTHONPATH (first few entries): ['/home/cepatinog/amplab', '/home/cepatinog/miniconda3/envs/amplab_essentia/lib/python310.zip', '/home/cepatinog/miniconda3/envs/amplab_essentia/lib/python3.10']\n",
      "Sample audio file: /home/cepatinog/amplab/data/raw/example.mp3\n",
      "Tempo model file: /home/cepatinog/amplab/src/deeptemp-k16-3.pb\n"
     ]
    }
   ],
   "source": [
    "import tensorflow as tf\n",
    "# Enable GPU memory growth\n",
    "gpus = tf.config.list_physical_devices('GPU')\n",
    "if gpus:\n",
    "    try:\n",
    "        for gpu in gpus:\n",
    "            tf.config.experimental.set_memory_growth(gpu, True)\n",
    "        print(\"Memory growth enabled on GPU.\")\n",
    "    except RuntimeError as e:\n",
    "        print(e)\n",
    "\n",
    "import os\n",
    "# Hide unnecessary TensorFlow messages\n",
    "os.environ['TF_CPP_MIN_LOG_LEVEL'] = '2'\n",
    "\n",
    "import sys\n",
    "import essentia.standard as es\n",
    "import pandas as pd\n",
    "from pprint import pprint\n",
    "\n",
    "import numpy as np\n",
    "%matplotlib inline\n",
    "\n",
    "\n",
    "# Determine project root (assuming the notebook is in the notebooks/ folder)\n",
    "project_root = os.path.abspath(os.path.join(os.getcwd(), \"..\"))\n",
    "if project_root not in sys.path:\n",
    "    sys.path.insert(0, project_root)\n",
    "print(\"Project root:\", project_root)\n",
    "print(\"Current PYTHONPATH (first few entries):\", sys.path[:3])\n",
    "\n",
    "# Define paths\n",
    "raw_dir = os.path.join(project_root, \"data\", \"raw\")\n",
    "sample_audio = os.path.join(raw_dir, \"example.mp3\")  # Ensure this file exists\n",
    "tempo_model_file = os.path.join(project_root, \"src\", \"deeptemp-k16-3.pb\")\n",
    "print(\"Sample audio file:\", sample_audio)\n",
    "print(\"Tempo model file:\", tempo_model_file)\n"
   ]
  },
  {
   "cell_type": "markdown",
   "metadata": {},
   "source": [
    "### Cell 2: Test Audio Loading"
   ]
  },
  {
   "cell_type": "code",
   "execution_count": 2,
   "metadata": {},
   "outputs": [
    {
     "name": "stdout",
     "output_type": "stream",
     "text": [
      "Returned keys:\n",
      "['stereo_audio', 'mono_audio', 'mono_tempo', 'sampleRate', 'numChannels']\n",
      "\n",
      "Details of loaded audio:\n",
      "Stereo audio (first 5 samples):\n",
      "array([[-0.10971069,  0.09204102],\n",
      "       [-0.17526245,  0.07278442],\n",
      "       [-0.29336548, -0.0501709 ],\n",
      "       [-0.28570557,  0.00180054],\n",
      "       [-0.22473145,  0.12976074]], dtype=float32)\n",
      "Mono audio length (for key extraction): 1323001\n",
      "Mono audio length (for tempo extraction): 330750\n",
      "Sample rate used for mono audio: 44100.0\n",
      "Number of channels in original file: 2\n"
     ]
    }
   ],
   "source": [
    "from src.load_audio import load_audio_file\n",
    "\n",
    "audio_dict = load_audio_file(sample_audio, targetMonoSampleRate=44100, targetTempoSampleRate=11025)\n",
    "\n",
    "print(\"Returned keys:\")\n",
    "pprint(list(audio_dict.keys()))\n",
    "\n",
    "print(\"\\nDetails of loaded audio:\")\n",
    "print(\"Stereo audio (first 5 samples):\")\n",
    "pprint(audio_dict['stereo_audio'][:5])\n",
    "print(\"Mono audio length (for key extraction):\", len(audio_dict['mono_audio']))\n",
    "print(\"Mono audio length (for tempo extraction):\", len(audio_dict['mono_tempo']))\n",
    "print(\"Sample rate used for mono audio:\", audio_dict['sampleRate'])\n",
    "print(\"Number of channels in original file:\", audio_dict['numChannels'])\n"
   ]
  },
  {
   "cell_type": "markdown",
   "metadata": {},
   "source": [
    "### Cell 3: Test Individual Feature Extractors"
   ]
  },
  {
   "cell_type": "code",
   "execution_count": 3,
   "metadata": {},
   "outputs": [
    {
     "name": "stdout",
     "output_type": "stream",
     "text": [
      "Tempo Features:\n",
      "{'global_bpm': 128.0,\n",
      " 'local_bpms': [128.0, 128.0, 128.0, 128.0],\n",
      " 'local_probs': [0.9546993374824524,\n",
      "                 0.9014107584953308,\n",
      "                 0.8928115367889404,\n",
      "                 0.8102705478668213]}\n",
      "\n",
      "Key Features:\n",
      "{'edma_key': 'F#',\n",
      " 'edma_scale': 'major',\n",
      " 'edma_strength': 0.9310499429702759,\n",
      " 'krumhansl_key': 'F#',\n",
      " 'krumhansl_scale': 'major',\n",
      " 'krumhansl_strength': 0.985231876373291,\n",
      " 'temperley_key': 'F#',\n",
      " 'temperley_scale': 'major',\n",
      " 'temperley_strength': 0.9225367903709412}\n",
      "\n",
      "Loudness Features:\n",
      "{'integrated_loudness': -7.263375759124756,\n",
      " 'loudness_range': 1.1281824111938477,\n",
      " 'momentary_loudness': array([-9.38477 , -9.104578, -8.783603, ..., -8.875216, -9.161896,\n",
      "       -9.573801], dtype=float32),\n",
      " 'short_term_loudness': array([-9.571363, -9.482447, -9.383096, ..., -9.565043, -9.629582,\n",
      "       -9.684465], dtype=float32)}\n"
     ]
    },
    {
     "name": "stderr",
     "output_type": "stream",
     "text": [
      "[   INFO   ] TensorflowPredict: Successfully loaded graph file: `/home/cepatinog/amplab/src/deeptemp-k16-3.pb`\n"
     ]
    }
   ],
   "source": [
    "from src.extract_tempo import extract_tempo_features\n",
    "from src.key_extraction import extract_key_features\n",
    "from src.extract_loudness import extract_loudness_features\n",
    "\n",
    "tempo_features = extract_tempo_features(audio_dict['mono_tempo'], method='tempocnn', model_file=tempo_model_file)\n",
    "print(\"Tempo Features:\")\n",
    "pprint(tempo_features)\n",
    "\n",
    "key_features = extract_key_features(audio_dict['mono_audio'])\n",
    "print(\"\\nKey Features:\")\n",
    "pprint(key_features)\n",
    "\n",
    "loudness_features = extract_loudness_features(audio_dict['stereo_audio'], hopSize=1024/44100, sampleRate=44100, startAtZero=True)\n",
    "print(\"\\nLoudness Features:\")\n",
    "pprint(loudness_features)\n"
   ]
  },
  {
   "cell_type": "markdown",
   "metadata": {},
   "source": [
    "### Cell 4: Test Integrated Pipeline"
   ]
  },
  {
   "cell_type": "code",
   "execution_count": 4,
   "metadata": {},
   "outputs": [
    {
     "name": "stderr",
     "output_type": "stream",
     "text": [
      "[   INFO   ] TensorflowPredict: Successfully loaded graph file: `/home/cepatinog/amplab/src/deeptemp-k16-3.pb`\n"
     ]
    },
    {
     "name": "stdout",
     "output_type": "stream",
     "text": [
      "\n",
      "All Integrated Extracted Features:\n",
      "{'edma_key': 'F#',\n",
      " 'edma_scale': 'major',\n",
      " 'edma_strength': 0.9310499429702759,\n",
      " 'krumhansl_key': 'F#',\n",
      " 'krumhansl_scale': 'major',\n",
      " 'krumhansl_strength': 0.985231876373291,\n",
      " 'loudness_integrated_loudness': -7.263375759124756,\n",
      " 'loudness_loudness_range': 1.1281824111938477,\n",
      " 'loudness_momentary_loudness': array([-9.38477 , -9.104578, -8.783603, ..., -8.875216, -9.161896,\n",
      "       -9.573801], dtype=float32),\n",
      " 'loudness_short_term_loudness': array([-9.571363, -9.482447, -9.383096, ..., -9.565043, -9.629582,\n",
      "       -9.684465], dtype=float32),\n",
      " 'temperley_key': 'F#',\n",
      " 'temperley_scale': 'major',\n",
      " 'temperley_strength': 0.9225367903709412,\n",
      " 'tempo_global_bpm': 128.0,\n",
      " 'tempo_local_bpms': [128.0, 128.0, 128.0, 128.0],\n",
      " 'tempo_local_probs': [0.9546993374824524,\n",
      "                       0.9014107584953308,\n",
      "                       0.8928115367889404,\n",
      "                       0.8102705478668213]}\n"
     ]
    },
    {
     "data": {
      "text/html": [
       "<div>\n",
       "<style scoped>\n",
       "    .dataframe tbody tr th:only-of-type {\n",
       "        vertical-align: middle;\n",
       "    }\n",
       "\n",
       "    .dataframe tbody tr th {\n",
       "        vertical-align: top;\n",
       "    }\n",
       "\n",
       "    .dataframe thead th {\n",
       "        text-align: right;\n",
       "    }\n",
       "</style>\n",
       "<table border=\"1\" class=\"dataframe\">\n",
       "  <thead>\n",
       "    <tr style=\"text-align: right;\">\n",
       "      <th></th>\n",
       "      <th>tempo_global_bpm</th>\n",
       "      <th>tempo_local_bpms</th>\n",
       "      <th>tempo_local_probs</th>\n",
       "      <th>temperley_key</th>\n",
       "      <th>temperley_scale</th>\n",
       "      <th>temperley_strength</th>\n",
       "      <th>krumhansl_key</th>\n",
       "      <th>krumhansl_scale</th>\n",
       "      <th>krumhansl_strength</th>\n",
       "      <th>edma_key</th>\n",
       "      <th>edma_scale</th>\n",
       "      <th>edma_strength</th>\n",
       "      <th>loudness_momentary_loudness</th>\n",
       "      <th>loudness_short_term_loudness</th>\n",
       "      <th>loudness_integrated_loudness</th>\n",
       "      <th>loudness_loudness_range</th>\n",
       "    </tr>\n",
       "  </thead>\n",
       "  <tbody>\n",
       "    <tr>\n",
       "      <th>0</th>\n",
       "      <td>128.0</td>\n",
       "      <td>[128.0, 128.0, 128.0, 128.0]</td>\n",
       "      <td>[0.9546993374824524, 0.9014107584953308, 0.892...</td>\n",
       "      <td>F#</td>\n",
       "      <td>major</td>\n",
       "      <td>0.922537</td>\n",
       "      <td>F#</td>\n",
       "      <td>major</td>\n",
       "      <td>0.985232</td>\n",
       "      <td>F#</td>\n",
       "      <td>major</td>\n",
       "      <td>0.93105</td>\n",
       "      <td>[-9.38477, -9.104578, -8.783603, -8.4422655, -...</td>\n",
       "      <td>[-9.571363, -9.482447, -9.383096, -9.306011, -...</td>\n",
       "      <td>-7.263376</td>\n",
       "      <td>1.128182</td>\n",
       "    </tr>\n",
       "  </tbody>\n",
       "</table>\n",
       "</div>"
      ],
      "text/plain": [
       "   tempo_global_bpm              tempo_local_bpms  \\\n",
       "0             128.0  [128.0, 128.0, 128.0, 128.0]   \n",
       "\n",
       "                                   tempo_local_probs temperley_key  \\\n",
       "0  [0.9546993374824524, 0.9014107584953308, 0.892...            F#   \n",
       "\n",
       "  temperley_scale  temperley_strength krumhansl_key krumhansl_scale  \\\n",
       "0           major            0.922537            F#           major   \n",
       "\n",
       "   krumhansl_strength edma_key edma_scale  edma_strength  \\\n",
       "0            0.985232       F#      major        0.93105   \n",
       "\n",
       "                         loudness_momentary_loudness  \\\n",
       "0  [-9.38477, -9.104578, -8.783603, -8.4422655, -...   \n",
       "\n",
       "                        loudness_short_term_loudness  \\\n",
       "0  [-9.571363, -9.482447, -9.383096, -9.306011, -...   \n",
       "\n",
       "   loudness_integrated_loudness  loudness_loudness_range  \n",
       "0                     -7.263376                 1.128182  "
      ]
     },
     "execution_count": 4,
     "metadata": {},
     "output_type": "execute_result"
    }
   ],
   "source": [
    "from src.audio_analysis import extract_all_features\n",
    "\n",
    "all_features = extract_all_features(audio_dict, tempo_method='tempocnn', tempo_model_file=tempo_model_file)\n",
    "print(\"\\nAll Integrated Extracted Features:\")\n",
    "pprint(all_features)\n",
    "\n",
    "df = pd.DataFrame([all_features])\n",
    "df\n"
   ]
  },
  {
   "cell_type": "markdown",
   "metadata": {},
   "source": [
    "### Cell 5: Test Embedding Extraction"
   ]
  },
  {
   "cell_type": "code",
   "execution_count": null,
   "metadata": {},
   "outputs": [
    {
     "name": "stdout",
     "output_type": "stream",
     "text": [
      "Loaded audio for embeddings length: 480001\n",
      "Discogs-Effnet embedding shape: (1280,)\n",
      "array([-0.00818077,  0.04617089,  0.08795194, ..., -0.0115188 ,\n",
      "        0.22933842, -0.0307178 ], dtype=float32)\n"
     ]
    },
    {
     "name": "stderr",
     "output_type": "stream",
     "text": [
      "[   INFO   ] TensorflowPredict: Successfully loaded graph file: `/home/cepatinog/amplab/src/discogs-effnet-bs64-1.pb`\n"
     ]
    }
   ],
   "source": [
    "from src.extract_embeddings import extract_discogs_effnet_embeddings\n",
    "\n",
    "# Load audio for embeddings: using MonoLoader at 16kHz\n",
    "audio_embeddings = es.MonoLoader(filename=sample_audio, sampleRate=16000, resampleQuality=4)()\n",
    "print(\"Loaded audio for embeddings length:\", len(audio_embeddings))\n",
    "\n",
    "discogs_model_file = os.path.join(project_root, \"src\", \"discogs-effnet-bs64-1.pb\")\n",
    "discogs_embedding = extract_discogs_effnet_embeddings(audio_embeddings, model_file=discogs_model_file)\n",
    "print(\"Discogs-Effnet embedding shape:\", discogs_embedding.shape)\n",
    "pprint(discogs_embedding)\n"
   ]
  }
 ],
 "metadata": {
  "kernelspec": {
   "display_name": "amplab_essentia",
   "language": "python",
   "name": "python3"
  },
  "language_info": {
   "codemirror_mode": {
    "name": "ipython",
    "version": 3
   },
   "file_extension": ".py",
   "mimetype": "text/x-python",
   "name": "python",
   "nbconvert_exporter": "python",
   "pygments_lexer": "ipython3",
   "version": "3.10.16"
  }
 },
 "nbformat": 4,
 "nbformat_minor": 2
}
