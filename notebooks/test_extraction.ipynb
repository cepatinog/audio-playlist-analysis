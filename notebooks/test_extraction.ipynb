{
 "cells": [
  {
   "cell_type": "markdown",
   "metadata": {},
   "source": [
    "### Cell 1: Environment Setup"
   ]
  },
  {
   "cell_type": "code",
   "execution_count": 1,
   "metadata": {},
   "outputs": [
    {
     "name": "stderr",
     "output_type": "stream",
     "text": [
      "2025-02-13 12:34:01.138402: I tensorflow/stream_executor/cuda/cuda_gpu_executor.cc:922] could not open file to read NUMA node: /sys/bus/pci/devices/0000:01:00.0/numa_node\n",
      "Your kernel may have been built without NUMA support.\n",
      "2025-02-13 12:34:01.158601: I tensorflow/stream_executor/cuda/cuda_gpu_executor.cc:922] could not open file to read NUMA node: /sys/bus/pci/devices/0000:01:00.0/numa_node\n",
      "Your kernel may have been built without NUMA support.\n",
      "2025-02-13 12:34:01.158657: I tensorflow/stream_executor/cuda/cuda_gpu_executor.cc:922] could not open file to read NUMA node: /sys/bus/pci/devices/0000:01:00.0/numa_node\n",
      "Your kernel may have been built without NUMA support.\n"
     ]
    },
    {
     "name": "stdout",
     "output_type": "stream",
     "text": [
      "Memory growth enabled on GPU.\n"
     ]
    },
    {
     "name": "stderr",
     "output_type": "stream",
     "text": [
      "[   INFO   ] MusicExtractorSVM: no classifier models were configured by default\n"
     ]
    },
    {
     "name": "stdout",
     "output_type": "stream",
     "text": [
      "Project root: /home/cepatinog/amplab\n",
      "Current PYTHONPATH (first few entries): ['/home/cepatinog/amplab', '/home/cepatinog/miniconda3/envs/amplab_essentia/lib/python310.zip', '/home/cepatinog/miniconda3/envs/amplab_essentia/lib/python3.10']\n",
      "Sample audio file: /home/cepatinog/amplab/data/raw/example.mp3\n",
      "Tempo model file: /home/cepatinog/amplab/src/deeptemp-k16-3.pb\n"
     ]
    }
   ],
   "source": [
    "import tensorflow as tf\n",
    "# Enable GPU memory growth\n",
    "gpus = tf.config.list_physical_devices('GPU')\n",
    "if gpus:\n",
    "    try:\n",
    "        for gpu in gpus:\n",
    "            tf.config.experimental.set_memory_growth(gpu, True)\n",
    "        print(\"Memory growth enabled on GPU.\")\n",
    "    except RuntimeError as e:\n",
    "        print(e)\n",
    "\n",
    "import os\n",
    "# Hide unnecessary TensorFlow messages\n",
    "os.environ['TF_CPP_MIN_LOG_LEVEL'] = '2'\n",
    "\n",
    "import sys\n",
    "import essentia.standard as es\n",
    "import pandas as pd\n",
    "from pprint import pprint\n",
    "\n",
    "import numpy as np\n",
    "%matplotlib inline\n",
    "\n",
    "\n",
    "# Determine project root (assuming the notebook is in the notebooks/ folder)\n",
    "project_root = os.path.abspath(os.path.join(os.getcwd(), \"..\"))\n",
    "if project_root not in sys.path:\n",
    "    sys.path.insert(0, project_root)\n",
    "print(\"Project root:\", project_root)\n",
    "print(\"Current PYTHONPATH (first few entries):\", sys.path[:3])\n",
    "\n",
    "# Define paths\n",
    "raw_dir = os.path.join(project_root, \"data\", \"raw\")\n",
    "sample_audio = os.path.join(raw_dir, \"example.mp3\")  # Ensure this file exists\n",
    "tempo_model_file = os.path.join(project_root, \"src\", \"deeptemp-k16-3.pb\")\n",
    "print(\"Sample audio file:\", sample_audio)\n",
    "print(\"Tempo model file:\", tempo_model_file)\n"
   ]
  },
  {
   "cell_type": "markdown",
   "metadata": {},
   "source": [
    "### Cell 2: Test Audio Loading"
   ]
  },
  {
   "cell_type": "code",
   "execution_count": 2,
   "metadata": {},
   "outputs": [
    {
     "name": "stdout",
     "output_type": "stream",
     "text": [
      "Returned keys:\n",
      "['stereo_audio', 'mono_audio', 'mono_tempo', 'sampleRate', 'numChannels']\n",
      "\n",
      "Details of loaded audio:\n",
      "Stereo audio (first 5 samples):\n",
      "array([[-0.10971069,  0.09204102],\n",
      "       [-0.17526245,  0.07278442],\n",
      "       [-0.29336548, -0.0501709 ],\n",
      "       [-0.28570557,  0.00180054],\n",
      "       [-0.22473145,  0.12976074]], dtype=float32)\n",
      "Mono audio length (for key extraction): 1323001\n",
      "Mono audio length (for tempo extraction): 330750\n",
      "Sample rate used for mono audio: 44100.0\n",
      "Number of channels in original file: 2\n"
     ]
    }
   ],
   "source": [
    "from src.load_audio import load_audio_file\n",
    "\n",
    "audio_dict = load_audio_file(sample_audio, targetMonoSampleRate=44100, targetTempoSampleRate=11025)\n",
    "\n",
    "print(\"Returned keys:\")\n",
    "pprint(list(audio_dict.keys()))\n",
    "\n",
    "print(\"\\nDetails of loaded audio:\")\n",
    "print(\"Stereo audio (first 5 samples):\")\n",
    "pprint(audio_dict['stereo_audio'][:5])\n",
    "print(\"Mono audio length (for key extraction):\", len(audio_dict['mono_audio']))\n",
    "print(\"Mono audio length (for tempo extraction):\", len(audio_dict['mono_tempo']))\n",
    "print(\"Sample rate used for mono audio:\", audio_dict['sampleRate'])\n",
    "print(\"Number of channels in original file:\", audio_dict['numChannels'])\n"
   ]
  },
  {
   "cell_type": "markdown",
   "metadata": {},
   "source": [
    "### Cell 3: Test Individual Feature Extractors"
   ]
  },
  {
   "cell_type": "code",
   "execution_count": 3,
   "metadata": {},
   "outputs": [
    {
     "name": "stdout",
     "output_type": "stream",
     "text": [
      "Tempo Features:\n",
      "{'global_bpm': 128.0,\n",
      " 'local_bpms': [128.0, 128.0, 128.0, 128.0],\n",
      " 'local_probs': [0.9546993374824524,\n",
      "                 0.9014108777046204,\n",
      "                 0.8928115367889404,\n",
      "                 0.8102707266807556]}\n"
     ]
    },
    {
     "name": "stderr",
     "output_type": "stream",
     "text": [
      "[   INFO   ] TensorflowPredict: Successfully loaded graph file: `/home/cepatinog/amplab/src/deeptemp-k16-3.pb`\n"
     ]
    },
    {
     "name": "stdout",
     "output_type": "stream",
     "text": [
      "\n",
      "Key Features:\n",
      "{'edma_key': 'F#',\n",
      " 'edma_scale': 'major',\n",
      " 'edma_strength': 0.9310499429702759,\n",
      " 'krumhansl_key': 'F#',\n",
      " 'krumhansl_scale': 'major',\n",
      " 'krumhansl_strength': 0.985231876373291,\n",
      " 'temperley_key': 'F#',\n",
      " 'temperley_scale': 'major',\n",
      " 'temperley_strength': 0.9225367903709412}\n",
      "\n",
      "Loudness Features:\n",
      "{'integrated_loudness': -7.263375759124756,\n",
      " 'loudness_range': 1.1281824111938477,\n",
      " 'momentary_loudness': array([-9.38477 , -9.104578, -8.783603, ..., -8.875216, -9.161896,\n",
      "       -9.573801], dtype=float32),\n",
      " 'short_term_loudness': array([-9.571363, -9.482447, -9.383096, ..., -9.565043, -9.629582,\n",
      "       -9.684465], dtype=float32)}\n"
     ]
    }
   ],
   "source": [
    "from src.extract_tempo import extract_tempo_features\n",
    "from src.key_extraction import extract_key_features\n",
    "from src.extract_loudness import extract_loudness_features\n",
    "\n",
    "tempo_features = extract_tempo_features(audio_dict['mono_tempo'], method='tempocnn', model_file=tempo_model_file)\n",
    "print(\"Tempo Features:\")\n",
    "pprint(tempo_features)\n",
    "\n",
    "key_features = extract_key_features(audio_dict['mono_audio'])\n",
    "print(\"\\nKey Features:\")\n",
    "pprint(key_features)\n",
    "\n",
    "loudness_features = extract_loudness_features(audio_dict['stereo_audio'], hopSize=1024/44100, sampleRate=44100, startAtZero=True)\n",
    "print(\"\\nLoudness Features:\")\n",
    "pprint(loudness_features)\n"
   ]
  },
  {
   "cell_type": "markdown",
   "metadata": {},
   "source": [
    "### Cell 4: Test Integrated Pipeline"
   ]
  },
  {
   "cell_type": "code",
   "execution_count": 4,
   "metadata": {},
   "outputs": [
    {
     "name": "stderr",
     "output_type": "stream",
     "text": [
      "[   INFO   ] TensorflowPredict: Successfully loaded graph file: `/home/cepatinog/amplab/src/deeptemp-k16-3.pb`\n"
     ]
    },
    {
     "name": "stdout",
     "output_type": "stream",
     "text": [
      "\n",
      "All Integrated Extracted Features:\n",
      "{'edma_key': 'F#',\n",
      " 'edma_scale': 'major',\n",
      " 'edma_strength': 0.9310499429702759,\n",
      " 'krumhansl_key': 'F#',\n",
      " 'krumhansl_scale': 'major',\n",
      " 'krumhansl_strength': 0.985231876373291,\n",
      " 'loudness_integrated_loudness': -7.263375759124756,\n",
      " 'loudness_loudness_range': 1.1281824111938477,\n",
      " 'loudness_momentary_loudness': array([-9.38477 , -9.104578, -8.783603, ..., -8.875216, -9.161896,\n",
      "       -9.573801], dtype=float32),\n",
      " 'loudness_short_term_loudness': array([-9.571363, -9.482447, -9.383096, ..., -9.565043, -9.629582,\n",
      "       -9.684465], dtype=float32),\n",
      " 'temperley_key': 'F#',\n",
      " 'temperley_scale': 'major',\n",
      " 'temperley_strength': 0.9225367903709412,\n",
      " 'tempo_global_bpm': 128.0,\n",
      " 'tempo_local_bpms': [128.0, 128.0, 128.0, 128.0],\n",
      " 'tempo_local_probs': [0.9546993374824524,\n",
      "                       0.9014108777046204,\n",
      "                       0.8928115367889404,\n",
      "                       0.8102707266807556]}\n"
     ]
    },
    {
     "data": {
      "text/html": [
       "<div>\n",
       "<style scoped>\n",
       "    .dataframe tbody tr th:only-of-type {\n",
       "        vertical-align: middle;\n",
       "    }\n",
       "\n",
       "    .dataframe tbody tr th {\n",
       "        vertical-align: top;\n",
       "    }\n",
       "\n",
       "    .dataframe thead th {\n",
       "        text-align: right;\n",
       "    }\n",
       "</style>\n",
       "<table border=\"1\" class=\"dataframe\">\n",
       "  <thead>\n",
       "    <tr style=\"text-align: right;\">\n",
       "      <th></th>\n",
       "      <th>tempo_global_bpm</th>\n",
       "      <th>tempo_local_bpms</th>\n",
       "      <th>tempo_local_probs</th>\n",
       "      <th>temperley_key</th>\n",
       "      <th>temperley_scale</th>\n",
       "      <th>temperley_strength</th>\n",
       "      <th>krumhansl_key</th>\n",
       "      <th>krumhansl_scale</th>\n",
       "      <th>krumhansl_strength</th>\n",
       "      <th>edma_key</th>\n",
       "      <th>edma_scale</th>\n",
       "      <th>edma_strength</th>\n",
       "      <th>loudness_momentary_loudness</th>\n",
       "      <th>loudness_short_term_loudness</th>\n",
       "      <th>loudness_integrated_loudness</th>\n",
       "      <th>loudness_loudness_range</th>\n",
       "    </tr>\n",
       "  </thead>\n",
       "  <tbody>\n",
       "    <tr>\n",
       "      <th>0</th>\n",
       "      <td>128.0</td>\n",
       "      <td>[128.0, 128.0, 128.0, 128.0]</td>\n",
       "      <td>[0.9546993374824524, 0.9014108777046204, 0.892...</td>\n",
       "      <td>F#</td>\n",
       "      <td>major</td>\n",
       "      <td>0.922537</td>\n",
       "      <td>F#</td>\n",
       "      <td>major</td>\n",
       "      <td>0.985232</td>\n",
       "      <td>F#</td>\n",
       "      <td>major</td>\n",
       "      <td>0.93105</td>\n",
       "      <td>[-9.38477, -9.104578, -8.783603, -8.4422655, -...</td>\n",
       "      <td>[-9.571363, -9.482447, -9.383096, -9.306011, -...</td>\n",
       "      <td>-7.263376</td>\n",
       "      <td>1.128182</td>\n",
       "    </tr>\n",
       "  </tbody>\n",
       "</table>\n",
       "</div>"
      ],
      "text/plain": [
       "   tempo_global_bpm              tempo_local_bpms  \\\n",
       "0             128.0  [128.0, 128.0, 128.0, 128.0]   \n",
       "\n",
       "                                   tempo_local_probs temperley_key  \\\n",
       "0  [0.9546993374824524, 0.9014108777046204, 0.892...            F#   \n",
       "\n",
       "  temperley_scale  temperley_strength krumhansl_key krumhansl_scale  \\\n",
       "0           major            0.922537            F#           major   \n",
       "\n",
       "   krumhansl_strength edma_key edma_scale  edma_strength  \\\n",
       "0            0.985232       F#      major        0.93105   \n",
       "\n",
       "                         loudness_momentary_loudness  \\\n",
       "0  [-9.38477, -9.104578, -8.783603, -8.4422655, -...   \n",
       "\n",
       "                        loudness_short_term_loudness  \\\n",
       "0  [-9.571363, -9.482447, -9.383096, -9.306011, -...   \n",
       "\n",
       "   loudness_integrated_loudness  loudness_loudness_range  \n",
       "0                     -7.263376                 1.128182  "
      ]
     },
     "execution_count": 4,
     "metadata": {},
     "output_type": "execute_result"
    }
   ],
   "source": [
    "from src.audio_analysis import extract_all_features\n",
    "\n",
    "all_features = extract_all_features(audio_dict, tempo_method='tempocnn', tempo_model_file=tempo_model_file)\n",
    "print(\"\\nAll Integrated Extracted Features:\")\n",
    "pprint(all_features)\n",
    "\n",
    "df = pd.DataFrame([all_features])\n",
    "df\n"
   ]
  },
  {
   "cell_type": "markdown",
   "metadata": {},
   "source": [
    "### Cell 5: Test Embedding Extraction"
   ]
  },
  {
   "cell_type": "code",
   "execution_count": 5,
   "metadata": {},
   "outputs": [
    {
     "name": "stdout",
     "output_type": "stream",
     "text": [
      "Loaded audio for embeddings length: 480001\n"
     ]
    },
    {
     "name": "stderr",
     "output_type": "stream",
     "text": [
      "[   INFO   ] TensorflowPredict: Successfully loaded graph file: `/home/cepatinog/amplab/src/discogs-effnet-bs64-1.pb`\n",
      "[   INFO   ] TensorflowPredict: Successfully loaded graph file: `/home/cepatinog/amplab/src/msd-musicnn-1.pb`\n"
     ]
    },
    {
     "name": "stdout",
     "output_type": "stream",
     "text": [
      "Discogs-Effnet embedding shape: (1280,)\n",
      "Discogs-Effnet embedding:\n",
      "array([-0.00818077,  0.04617089,  0.08795194, ..., -0.0115188 ,\n",
      "        0.22933842, -0.0307178 ], dtype=float32)\n",
      "MSD-MusicCNN embedding shape: (200,)\n",
      "MSD-MusicCNN embedding:\n",
      "array([ 1.6210680e+00,  3.7390992e-01, -1.4761760e+00, -1.8138838e+00,\n",
      "       -1.9977241e+00,  3.1101890e+00,  2.1713927e+00, -1.4830803e+00,\n",
      "       -5.1325660e+00,  1.1591920e-01,  2.4978249e+00,  2.1131213e+00,\n",
      "       -2.4963405e+00, -1.3414558e+00,  7.5094149e-02,  3.0526948e+00,\n",
      "        1.6317570e-01, -4.4245654e-01, -2.4706023e+00, -2.8656778e+00,\n",
      "        1.4657718e+00,  5.5882281e-01, -2.9023263e+00, -1.3423108e+00,\n",
      "        7.5930852e-01, -2.9156735e+00,  1.9484429e+00,  3.3846447e+00,\n",
      "        2.6429994e+00, -2.7658646e+00,  2.5999832e-01, -2.6172974e+00,\n",
      "        7.8670716e-01, -3.4677293e+00,  3.1758797e+00,  3.5159130e+00,\n",
      "       -2.7254109e+00,  3.6064587e+00, -2.2145446e-02,  3.6668515e-01,\n",
      "        2.1951363e+00, -1.8875448e-01, -1.8936421e+00, -9.4303572e-01,\n",
      "       -2.0058002e+00, -1.5004231e+00,  3.9041977e+00,  4.3117089e+00,\n",
      "       -2.1866372e+00, -1.0883907e+00,  2.9554944e+00, -1.8217721e+00,\n",
      "        1.1873538e+00, -2.5990071e+00, -2.1003983e+00, -7.7524644e-01,\n",
      "       -2.0887702e+00,  2.5922005e+00, -1.3236336e+00, -3.1681004e+00,\n",
      "       -1.5322220e+00, -1.8423280e+00,  3.6796656e-01, -2.8129911e+00,\n",
      "       -1.1416713e+00,  1.1177329e-02,  3.3314574e+00,  1.2414690e-01,\n",
      "        3.7293665e+00, -2.7045045e+00,  1.6302639e+00, -2.3041809e+00,\n",
      "       -2.2533166e+00,  3.3840826e+00, -1.1921439e+00,  1.2991420e+00,\n",
      "        3.1734474e+00, -2.4953625e+00, -2.7654380e-01,  1.1214045e+00,\n",
      "       -1.4511867e-01, -2.8655720e+00,  4.6914110e+00,  2.5256648e+00,\n",
      "       -9.9682313e-01,  2.0938385e-01, -1.8843502e+00,  1.1774393e+00,\n",
      "        1.1858758e+00,  2.6027470e+00,  2.6005087e+00, -2.1662846e+00,\n",
      "       -4.0471611e+00,  3.5175242e+00,  7.9796964e-01,  8.7794262e-01,\n",
      "        7.9305559e-01,  7.7650744e-01,  3.4799945e+00,  3.8152101e+00,\n",
      "        2.7162628e+00, -1.3781745e+00, -2.0980424e-01, -1.6993191e+00,\n",
      "       -4.7527986e+00, -2.2947817e+00,  4.2263083e-03,  2.2275069e+00,\n",
      "       -1.6411784e+00,  1.6118224e+00, -1.6160922e+00, -2.0310938e+00,\n",
      "        3.2301567e+00, -2.1748283e+00,  1.1009945e+00,  1.3578081e+00,\n",
      "        1.7101288e+00, -3.6407191e-01,  2.9632468e+00,  9.6543354e-01,\n",
      "       -2.3421731e+00,  1.6169122e+00,  9.1685313e-01,  6.0481286e-01,\n",
      "       -1.2095579e+00, -3.0082810e+00,  1.4502712e+00,  2.0122796e-01,\n",
      "       -3.4795103e+00,  1.0808316e+00,  3.1200275e+00,  2.6567247e+00,\n",
      "        3.8280506e+00, -4.5007472e+00, -9.8370743e-01,  1.6849295e+00,\n",
      "        1.2549193e+00,  2.6601538e-01, -4.1569176e-01, -2.1473682e+00,\n",
      "       -1.5353014e+00,  2.4881008e+00,  1.5081911e+00,  7.4856806e-01,\n",
      "        3.1707377e+00,  1.3155435e+00, -1.5980718e+00,  2.6563358e+00,\n",
      "        1.4285457e-01,  2.5585945e+00,  3.6069758e+00,  1.4218929e+00,\n",
      "        8.5701329e-01, -1.2461414e+00,  5.6153947e-01,  1.7866777e+00,\n",
      "       -1.1421759e+00,  3.3249865e+00, -2.5210137e+00,  1.9341917e+00,\n",
      "       -1.9977475e+00,  2.7592804e+00, -2.9743602e+00, -1.1164497e+00,\n",
      "       -2.7231216e+00, -2.7428961e+00, -2.6708217e+00,  2.1314918e-01,\n",
      "       -3.7675200e+00,  1.6258601e+00,  4.0634465e+00,  2.5658679e+00,\n",
      "       -2.1964741e+00,  2.2349777e+00,  1.4002360e+00, -1.4213364e+00,\n",
      "       -3.5475399e+00,  3.0153205e+00,  2.3714406e+00, -2.5845184e+00,\n",
      "        3.0967047e+00,  2.9707875e+00, -6.5107805e-01, -1.1504775e+00,\n",
      "       -2.6205924e+00,  3.7454906e+00,  1.9029840e+00,  1.7912315e+00,\n",
      "       -1.3276191e+00,  8.3336540e-02,  2.3317144e+00,  2.1302710e-01,\n",
      "       -8.4668070e-01, -2.7130299e+00,  3.4089363e-01, -9.6740134e-02,\n",
      "        1.2055575e-01, -7.5608748e-01,  9.0186542e-01, -2.0064414e+00],\n",
      "      dtype=float32)\n"
     ]
    }
   ],
   "source": [
    "# Import embedding extraction functions.\n",
    "from src.extract_embeddings import extract_discogs_effnet_embeddings, extract_msd_musicnn_embeddings\n",
    "\n",
    "# Load audio for embeddings: using MonoLoader at 16 kHz.\n",
    "audio_embeddings = es.MonoLoader(filename=sample_audio, sampleRate=16000, resampleQuality=4)()\n",
    "print(\"Loaded audio for embeddings length:\", len(audio_embeddings))\n",
    "\n",
    "# Define model paths.\n",
    "discogs_model_file = os.path.join(project_root, \"src\", \"discogs-effnet-bs64-1.pb\")  # Update filename if necessary\n",
    "musicnn_model_file = os.path.join(project_root, \"src\", \"msd-musicnn-1.pb\")           # Update filename if necessary\n",
    "\n",
    "# Extract Discogs-Effnet embeddings.\n",
    "discogs_embedding = extract_discogs_effnet_embeddings(audio_embeddings, model_file=discogs_model_file)\n",
    "print(\"Discogs-Effnet embedding shape:\", discogs_embedding.shape)\n",
    "print(\"Discogs-Effnet embedding:\")\n",
    "pprint(discogs_embedding)\n",
    "\n",
    "# Extract MSD-MusicCNN embeddings.\n",
    "musicnn_embedding = extract_msd_musicnn_embeddings(audio_embeddings, model_file=musicnn_model_file)\n",
    "print(\"MSD-MusicCNN embedding shape:\", musicnn_embedding.shape)\n",
    "print(\"MSD-MusicCNN embedding:\")\n",
    "pprint(musicnn_embedding)\n",
    "\n"
   ]
  }
 ],
 "metadata": {
  "kernelspec": {
   "display_name": "amplab_essentia",
   "language": "python",
   "name": "python3"
  },
  "language_info": {
   "codemirror_mode": {
    "name": "ipython",
    "version": 3
   },
   "file_extension": ".py",
   "mimetype": "text/x-python",
   "name": "python",
   "nbconvert_exporter": "python",
   "pygments_lexer": "ipython3",
   "version": "3.10.16"
  }
 },
 "nbformat": 4,
 "nbformat_minor": 2
}
